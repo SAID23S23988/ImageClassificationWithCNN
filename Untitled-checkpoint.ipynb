{
 "cells": [
  {
   "cell_type": "code",
   "execution_count": 3,
   "id": "481ec02e",
   "metadata": {},
   "outputs": [
    {
     "name": "stdout",
     "output_type": "stream",
     "text": [
      "Found 3788 images belonging to 2 classes.\n",
      "Found 945 images belonging to 2 classes.\n"
     ]
    }
   ],
   "source": [
    "# Specify paths to data directories\n",
    "train_dir = 'C:/Users/ELITEBOOK/Downloads/archive/train'  # Replace with the actual path to the training data folder\n",
    "test_dir = 'C:/Users/ELITEBOOK/Downloads/archive/test'    # Replace with the actual path to the test data folder\n",
    "\n",
    "# Import libraries\n",
    "import tensorflow as tf\n",
    "from tensorflow.keras.preprocessing.image import ImageDataGenerator\n",
    "\n",
    "# Set up ImageDataGenerator for the training set\n",
    "train_datagen = ImageDataGenerator(\n",
    "    rescale=1./255,\n",
    "    validation_split=0.2  # Split 20% of the images for validation\n",
    ")\n",
    "\n",
    "# Load and prepare training data\n",
    "train_data = train_datagen.flow_from_directory(\n",
    "    train_dir,\n",
    "    target_size=(256, 256),\n",
    "    batch_size=32,\n",
    "    class_mode='binary',  # 'binary' for binary classification (muffins vs. chihuahuas)\n",
    "    subset='training'  # Specify 'training' for the training set\n",
    ")\n",
    "\n",
    "# Set up ImageDataGenerator for the validation set\n",
    "validation_datagen = ImageDataGenerator(\n",
    "    rescale=1./255,\n",
    "    validation_split=0.2  # Note: Using the same validation split as in the training set\n",
    ")\n",
    "\n",
    "# Load and prepare validation data\n",
    "validation_data = validation_datagen.flow_from_directory(\n",
    "    train_dir,\n",
    "    target_size=(256, 256),\n",
    "    batch_size=32,\n",
    "    class_mode='binary',\n",
    "    subset='validation'  # Specify 'validation' for the validation set\n",
    ")\n",
    "\n",
    "# Now you can use train_data and validation_data to train your neural network model.\n",
    "# ... Continue building and training your model ...\n"
   ]
  },
  {
   "cell_type": "code",
   "execution_count": 5,
   "id": "5539aef2",
   "metadata": {},
   "outputs": [
    {
     "name": "stdout",
     "output_type": "stream",
     "text": [
      "Model: \"sequential_1\"\n",
      "_________________________________________________________________\n",
      " Layer (type)                Output Shape              Param #   \n",
      "=================================================================\n",
      " conv2d_3 (Conv2D)           (None, 254, 254, 32)      896       \n",
      "                                                                 \n",
      " batch_normalization_3 (Bat  (None, 254, 254, 32)      128       \n",
      " chNormalization)                                                \n",
      "                                                                 \n",
      " max_pooling2d_3 (MaxPoolin  (None, 127, 127, 32)      0         \n",
      " g2D)                                                            \n",
      "                                                                 \n",
      " conv2d_4 (Conv2D)           (None, 125, 125, 64)      18496     \n",
      "                                                                 \n",
      " batch_normalization_4 (Bat  (None, 125, 125, 64)      256       \n",
      " chNormalization)                                                \n",
      "                                                                 \n",
      " max_pooling2d_4 (MaxPoolin  (None, 62, 62, 64)        0         \n",
      " g2D)                                                            \n",
      "                                                                 \n",
      " conv2d_5 (Conv2D)           (None, 60, 60, 128)       73856     \n",
      "                                                                 \n",
      " batch_normalization_5 (Bat  (None, 60, 60, 128)       512       \n",
      " chNormalization)                                                \n",
      "                                                                 \n",
      " max_pooling2d_5 (MaxPoolin  (None, 30, 30, 128)       0         \n",
      " g2D)                                                            \n",
      "                                                                 \n",
      " flatten_1 (Flatten)         (None, 115200)            0         \n",
      "                                                                 \n",
      " dense_3 (Dense)             (None, 128)               14745728  \n",
      "                                                                 \n",
      " dropout_2 (Dropout)         (None, 128)               0         \n",
      "                                                                 \n",
      " dense_4 (Dense)             (None, 64)                8256      \n",
      "                                                                 \n",
      " dropout_3 (Dropout)         (None, 64)                0         \n",
      "                                                                 \n",
      " dense_5 (Dense)             (None, 1)                 65        \n",
      "                                                                 \n",
      "=================================================================\n",
      "Total params: 14848193 (56.64 MB)\n",
      "Trainable params: 14847745 (56.64 MB)\n",
      "Non-trainable params: 448 (1.75 KB)\n",
      "_________________________________________________________________\n"
     ]
    }
   ],
   "source": [
    "from tensorflow.keras.optimizers import Adam\n",
    "\n",
    "# Create CNN model\n",
    "model = Sequential()\n",
    "\n",
    "model.add(Conv2D(32, kernel_size=(3,3), padding='valid', activation='relu', input_shape=(256, 256, 3)))\n",
    "model.add(BatchNormalization())\n",
    "model.add(MaxPooling2D(pool_size=(2,2), strides=2, padding='valid'))\n",
    "\n",
    "model.add(Conv2D(64, kernel_size=(3,3), padding='valid', activation='relu'))\n",
    "model.add(BatchNormalization())\n",
    "model.add(MaxPooling2D(pool_size=(2,2), strides=2, padding='valid'))\n",
    "\n",
    "model.add(Conv2D(128, kernel_size=(3,3), padding='valid', activation='relu'))\n",
    "model.add(BatchNormalization())\n",
    "model.add(MaxPooling2D(pool_size=(2,2), strides=2, padding='valid'))\n",
    "\n",
    "model.add(Flatten())\n",
    "\n",
    "model.add(Dense(128, activation='relu'))\n",
    "model.add(Dropout(0.5))\n",
    "model.add(Dense(64, activation='relu'))\n",
    "model.add(Dropout(0.5))\n",
    "model.add(Dense(1, activation='sigmoid'))\n",
    "\n",
    "# Compile the model with Adam optimizer and specific learning rate\n",
    "model.compile(optimizer=Adam(learning_rate=0.001), loss='binary_crossentropy', metrics=['accuracy'])\n",
    "\n",
    "# Display the model summary\n",
    "model.summary()\n"
   ]
  },
  {
   "cell_type": "code",
   "execution_count": 6,
   "id": "88b78e2c",
   "metadata": {},
   "outputs": [],
   "source": [
    "from keras.optimizers import Adam\n",
    "model.compile(optimizer=Adam(learning_rate=0.001),loss='binary_crossentropy',metrics=['accuracy']) #binary_crossentropy - binary classification"
   ]
  },
  {
   "cell_type": "code",
   "execution_count": 7,
   "id": "9fd2a0fd",
   "metadata": {},
   "outputs": [
    {
     "name": "stdout",
     "output_type": "stream",
     "text": [
      "Epoch 1/30\n",
      "WARNING:tensorflow:From C:\\Users\\ELITEBOOK\\anaconda3\\Lib\\site-packages\\keras\\src\\utils\\tf_utils.py:492: The name tf.ragged.RaggedTensorValue is deprecated. Please use tf.compat.v1.ragged.RaggedTensorValue instead.\n",
      "\n",
      "WARNING:tensorflow:From C:\\Users\\ELITEBOOK\\anaconda3\\Lib\\site-packages\\keras\\src\\engine\\base_layer_utils.py:384: The name tf.executing_eagerly_outside_functions is deprecated. Please use tf.compat.v1.executing_eagerly_outside_functions instead.\n",
      "\n",
      "119/119 [==============================] - 384s 3s/step - loss: 7.6604 - accuracy: 0.6893 - val_loss: 28.7835 - val_accuracy: 0.5407\n",
      "Epoch 2/30\n",
      "119/119 [==============================] - 408s 3s/step - loss: 2.7421 - accuracy: 0.7183 - val_loss: 13.2173 - val_accuracy: 0.5407\n",
      "Epoch 3/30\n",
      "119/119 [==============================] - 396s 3s/step - loss: 1.0894 - accuracy: 0.7020 - val_loss: 7.2167 - val_accuracy: 0.5460\n",
      "Epoch 4/30\n",
      "119/119 [==============================] - 429s 4s/step - loss: 0.7392 - accuracy: 0.6721 - val_loss: 0.5650 - val_accuracy: 0.8138\n",
      "Epoch 5/30\n",
      "119/119 [==============================] - 412s 3s/step - loss: 0.5679 - accuracy: 0.6880 - val_loss: 0.5355 - val_accuracy: 0.7841\n",
      "Epoch 6/30\n",
      "119/119 [==============================] - 374s 3s/step - loss: 0.6080 - accuracy: 0.7049 - val_loss: 0.6238 - val_accuracy: 0.7884\n",
      "Epoch 7/30\n",
      "119/119 [==============================] - 423s 4s/step - loss: 0.6549 - accuracy: 0.6983 - val_loss: 0.3813 - val_accuracy: 0.8455\n",
      "Epoch 8/30\n",
      "119/119 [==============================] - 442s 4s/step - loss: 0.6086 - accuracy: 0.6935 - val_loss: 0.7889 - val_accuracy: 0.7979\n",
      "Epoch 9/30\n",
      "119/119 [==============================] - 400s 3s/step - loss: 0.5951 - accuracy: 0.6874 - val_loss: 1.1811 - val_accuracy: 0.4783\n",
      "Epoch 10/30\n",
      "119/119 [==============================] - 395s 3s/step - loss: 0.5593 - accuracy: 0.7218 - val_loss: 0.4121 - val_accuracy: 0.7101\n",
      "Epoch 11/30\n",
      "119/119 [==============================] - 416s 4s/step - loss: 0.5105 - accuracy: 0.7186 - val_loss: 0.3293 - val_accuracy: 0.8021\n",
      "Epoch 12/30\n",
      "119/119 [==============================] - 399s 3s/step - loss: 0.5346 - accuracy: 0.7571 - val_loss: 0.3307 - val_accuracy: 0.8677\n",
      "Epoch 13/30\n",
      "119/119 [==============================] - 421s 4s/step - loss: 0.4729 - accuracy: 0.7677 - val_loss: 0.4191 - val_accuracy: 0.7513\n",
      "Epoch 14/30\n",
      "119/119 [==============================] - 444s 4s/step - loss: 0.4628 - accuracy: 0.7653 - val_loss: 0.3829 - val_accuracy: 0.8201\n",
      "Epoch 15/30\n",
      "119/119 [==============================] - 452s 4s/step - loss: 0.4397 - accuracy: 0.7862 - val_loss: 0.3009 - val_accuracy: 0.8497\n",
      "Epoch 16/30\n",
      "119/119 [==============================] - 452s 4s/step - loss: 0.3925 - accuracy: 0.7994 - val_loss: 0.4500 - val_accuracy: 0.7968\n",
      "Epoch 17/30\n",
      "119/119 [==============================] - 462s 4s/step - loss: 0.3894 - accuracy: 0.7999 - val_loss: 0.3446 - val_accuracy: 0.7979\n",
      "Epoch 18/30\n",
      "119/119 [==============================] - 447s 4s/step - loss: 0.3554 - accuracy: 0.8194 - val_loss: 0.3404 - val_accuracy: 0.8317\n",
      "Epoch 19/30\n",
      "119/119 [==============================] - 437s 4s/step - loss: 0.3730 - accuracy: 0.8221 - val_loss: 0.5104 - val_accuracy: 0.7873\n",
      "Epoch 20/30\n",
      "119/119 [==============================] - 437s 4s/step - loss: 0.3425 - accuracy: 0.8202 - val_loss: 0.3521 - val_accuracy: 0.8434\n",
      "Epoch 21/30\n",
      "119/119 [==============================] - 447s 4s/step - loss: 0.3766 - accuracy: 0.8313 - val_loss: 0.2495 - val_accuracy: 0.8910\n",
      "Epoch 22/30\n",
      "119/119 [==============================] - 470s 4s/step - loss: 0.3507 - accuracy: 0.8350 - val_loss: 0.2893 - val_accuracy: 0.8487\n",
      "Epoch 23/30\n",
      "119/119 [==============================] - 420s 4s/step - loss: 0.3256 - accuracy: 0.8543 - val_loss: 0.4245 - val_accuracy: 0.8233\n",
      "Epoch 24/30\n",
      "119/119 [==============================] - 406s 3s/step - loss: 0.3031 - accuracy: 0.8603 - val_loss: 0.2858 - val_accuracy: 0.8709\n",
      "Epoch 25/30\n",
      "119/119 [==============================] - 407s 3s/step - loss: 0.2659 - accuracy: 0.8796 - val_loss: 0.3155 - val_accuracy: 0.8540\n",
      "Epoch 26/30\n",
      "119/119 [==============================] - 405s 3s/step - loss: 0.2915 - accuracy: 0.8725 - val_loss: 0.2348 - val_accuracy: 0.8963\n",
      "Epoch 27/30\n",
      "119/119 [==============================] - 406s 3s/step - loss: 0.2672 - accuracy: 0.8746 - val_loss: 0.2168 - val_accuracy: 0.9122\n",
      "Epoch 28/30\n",
      "119/119 [==============================] - 401s 3s/step - loss: 0.2371 - accuracy: 0.8875 - val_loss: 0.2587 - val_accuracy: 0.8952\n",
      "Epoch 29/30\n",
      "119/119 [==============================] - 433s 4s/step - loss: 0.2295 - accuracy: 0.8931 - val_loss: 0.5331 - val_accuracy: 0.7619\n",
      "Epoch 30/30\n",
      "119/119 [==============================] - 355s 3s/step - loss: 0.2520 - accuracy: 0.8928 - val_loss: 0.1852 - val_accuracy: 0.9206\n"
     ]
    }
   ],
   "source": [
    "history = model.fit(train_data, epochs=30, validation_data=validation_data)"
   ]
  },
  {
   "cell_type": "code",
   "execution_count": 9,
   "id": "cf3bd916",
   "metadata": {},
   "outputs": [
    {
     "data": {
      "image/png": "[encoded data removed]",
      "text/plain": [
       "<Figure size 640x480 with 1 Axes>"
      ]
     },
     "metadata": {},
     "output_type": "display_data"
    }
   ],
   "source": [
    "import matplotlib.pyplot as plt\n",
    "\n",
    "plt.plot(history.history['accuracy'],color='red',label='train')\n",
    "plt.plot(history.history['val_accuracy'],color='blue',label='validation')\n",
    "plt.legend()\n",
    "plt.show()"
   ]
  },
  {
   "cell_type": "code",
   "execution_count": 10,
   "id": "2d553803",
   "metadata": {},
   "outputs": [
    {
     "data": {
      "image/png": "[encoded data removed]",
      "text/plain": [
       "<Figure size 640x480 with 1 Axes>"
      ]
     },
     "metadata": {},
     "output_type": "display_data"
    }
   ],
   "source": [
    "plt.plot(history.history['loss'],color='red',label='train')\n",
    "plt.plot(history.history['val_loss'],color='blue',label='validation')\n",
    "plt.legend()\n",
    "plt.show()"
   ]
  },
  {
   "cell_type": "code",
   "execution_count": 19,
   "id": "49d3a4f5",
   "metadata": {},
   "outputs": [
    {
     "name": "stdout",
     "output_type": "stream",
     "text": [
      "37/37 [==============================] - 144s 4s/step\n",
      "[[5.8245441e-05 1.5025430e-04 1.2102005e-05 ... 3.8909084e-06\n",
      "  5.2543754e-05 2.7482913e-04]\n",
      " [4.8157286e-05 1.1985781e-04 1.0830911e-05 ... 3.0827819e-06\n",
      "  4.1407027e-05 2.2186972e-04]\n",
      " [5.5020606e-05 1.2530344e-04 1.0548331e-05 ... 3.5210919e-06\n",
      "  4.0947125e-05 2.1293711e-04]\n",
      " ...\n",
      " [4.7098747e-05 1.3499151e-04 7.8070043e-06 ... 2.9170280e-06\n",
      "  3.9630006e-05 1.9836045e-04]\n",
      " [6.6379856e-05 1.6852800e-04 1.1788225e-05 ... 4.2646470e-06\n",
      "  5.3926109e-05 2.3090055e-04]\n",
      " [6.5425491e-05 1.7440460e-04 1.4260598e-05 ... 4.4958160e-06\n",
      "  5.9179150e-05 2.6354936e-04]]\n"
     ]
    }
   ],
   "source": [
    "#predict the test data\n",
    "predictions = resnet_model.predict(test_data)\n",
    "print(predictions)"
   ]
  },
  {
   "cell_type": "code",
   "execution_count": 20,
   "id": "f05b52cf",
   "metadata": {},
   "outputs": [
    {
     "data": {
      "text/plain": [
       "1184"
      ]
     },
     "execution_count": 20,
     "metadata": {},
     "output_type": "execute_result"
    }
   ],
   "source": [
    "len(predictions)"
   ]
  },
  {
   "cell_type": "code",
   "execution_count": 26,
   "id": "f006d291",
   "metadata": {},
   "outputs": [
    {
     "name": "stdout",
     "output_type": "stream",
     "text": [
      "37/37 [==============================] - 33s 873ms/step\n",
      "Confusion Matrix:\n",
      "[[358 282]\n",
      " [285 259]]\n",
      "Classification Report:\n",
      "              precision    recall  f1-score   support\n",
      "\n",
      "           0       0.56      0.56      0.56       640\n",
      "           1       0.48      0.48      0.48       544\n",
      "\n",
      "    accuracy                           0.52      1184\n",
      "   macro avg       0.52      0.52      0.52      1184\n",
      "weighted avg       0.52      0.52      0.52      1184\n",
      "\n"
     ]
    }
   ],
   "source": [
    "from sklearn.metrics import confusion_matrix, classification_report\n",
    "\n",
    "# Assuming you have ground truth labels (true_labels) and predicted probabilities (predictions)\n",
    "# Note: You may need to extract true labels and predictions from your data or model output\n",
    "true_labels = test_data.classes  # Assuming these are one-hot encoded labels\n",
    "predicted_probs = model.predict(test_data)  # Assuming you have a trained model\n",
    "\n",
    "# Adjust the threshold as needed for binary classification\n",
    "threshold = 0.5\n",
    "predicted_labels = (predicted_probs > threshold).astype(int)\n",
    "\n",
    "# Calculate confusion matrix\n",
    "cm = confusion_matrix(true_labels, predicted_labels)\n",
    "\n",
    "# Print confusion matrix\n",
    "print(\"Confusion Matrix:\")\n",
    "print(cm)\n",
    "\n",
    "# Print classification report\n",
    "print(\"Classification Report:\")\n",
    "print(classification_report(true_labels, predicted_labels))\n"
   ]
  },
  {
   "cell_type": "code",
   "execution_count": null,
   "id": "b677be04",
   "metadata": {},
   "outputs": [],
   "source": []
  }
 ],
 "metadata": {
  "kernelspec": {
   "display_name": "Python 3 (ipykernel)",
   "language": "python",
   "name": "python3"
  },
  "language_info": {
   "codemirror_mode": {
    "name": "ipython",
    "version": 3
   },
   "file_extension": ".py",
   "mimetype": "text/x-python",
   "name": "python",
   "nbconvert_exporter": "python",
   "pygments_lexer": "ipython3",
   "version": "3.11.5"
  }
 },
 "nbformat": 4,
 "nbformat_minor": 5
}
